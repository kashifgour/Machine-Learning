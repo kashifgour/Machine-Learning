{
 "cells": [
  {
   "cell_type": "code",
   "execution_count": 1,
   "id": "a6f914cf",
   "metadata": {},
   "outputs": [],
   "source": [
    "import pandas as pd\n",
    "import requests\n",
    "from bs4 import BeautifulSoup\n"
   ]
  },
  {
   "cell_type": "code",
   "execution_count": 4,
   "id": "ac235b5f",
   "metadata": {},
   "outputs": [
    {
     "data": {
      "text/plain": [
       "<Response [403]>"
      ]
     },
     "execution_count": 4,
     "metadata": {},
     "output_type": "execute_result"
    }
   ],
   "source": [
    "requests.get('https://www.ambitionbox.com/list-of-companies?page=1')"
   ]
  },
  {
   "cell_type": "markdown",
   "id": "ed1d11b2",
   "metadata": {},
   "source": [
    "# <Response [403]> -- Server rejected our response"
   ]
  },
  {
   "cell_type": "code",
   "execution_count": 7,
   "id": "cf2fc778",
   "metadata": {},
   "outputs": [],
   "source": [
    "headers={'User-Agent':'Mozilla/5.0 (Windows NT 6.3; Win 64 ; x64) Apple WeKit /537.36(KHTML , like Gecko) Chrome/80.0.3987.162 Safari/537.36'}\n",
    "webpage=requests.get('https://www.ambitionbox.com/list-of-companies?page=1',headers=headers).text"
   ]
  },
  {
   "cell_type": "code",
   "execution_count": 8,
   "id": "b019f78d",
   "metadata": {},
   "outputs": [],
   "source": [
    "soup=BeautifulSoup(webpage, 'lxml')"
   ]
  },
  {
   "cell_type": "code",
   "execution_count": 65,
   "id": "78e754bd",
   "metadata": {},
   "outputs": [],
   "source": [
    "company=soup.find_all('div', class_=\"companyCardWrapper__primaryInformation\")"
   ]
  },
  {
   "cell_type": "code",
   "execution_count": 66,
   "id": "374dbb3a",
   "metadata": {},
   "outputs": [
    {
     "data": {
      "text/plain": [
       "20"
      ]
     },
     "execution_count": 66,
     "metadata": {},
     "output_type": "execute_result"
    }
   ],
   "source": [
    "len(company)"
   ]
  },
  {
   "cell_type": "code",
   "execution_count": 101,
   "id": "ca260669",
   "metadata": {},
   "outputs": [],
   "source": [
    "name=[]\n",
    "rating=[]\n",
    "reviews=[]\n",
    "for i in company:\n",
    "    name.append(i.find('h2').text.strip())\n",
    "    rating.append(i.find('div',class_='companyCardWrapper__companyRatingWrapper').text.strip())\n",
    "    reviews.append(i.find('a',class_='companyCardWrapper__ActionWrapper'))"
   ]
  },
  {
   "cell_type": "code",
   "execution_count": 71,
   "id": "96e1d7a5",
   "metadata": {},
   "outputs": [
    {
     "data": {
      "text/plain": [
       "['TCS',\n",
       " 'Accenture',\n",
       " 'Cognizant',\n",
       " 'Wipro',\n",
       " 'ICICI Bank',\n",
       " 'HDFC Bank',\n",
       " 'Infosys',\n",
       " 'Capgemini',\n",
       " 'Tech Mahindra',\n",
       " 'HCLTech',\n",
       " 'Genpact',\n",
       " 'Axis Bank',\n",
       " 'Concentrix Corporation',\n",
       " 'Amazon',\n",
       " 'Reliance Jio',\n",
       " 'IBM',\n",
       " 'Larsen & Toubro Limited',\n",
       " 'Reliance Retail',\n",
       " 'HDB Financial Services',\n",
       " 'Teleperformance']"
      ]
     },
     "execution_count": 71,
     "metadata": {},
     "output_type": "execute_result"
    }
   ],
   "source": [
    "name"
   ]
  },
  {
   "cell_type": "code",
   "execution_count": 82,
   "id": "c1336ad0",
   "metadata": {},
   "outputs": [
    {
     "data": {
      "text/plain": [
       "['3.8',\n",
       " '4.1',\n",
       " '3.9',\n",
       " '3.8',\n",
       " '4.0',\n",
       " '3.9',\n",
       " '3.9',\n",
       " '3.8',\n",
       " '3.7',\n",
       " '3.7',\n",
       " '3.9',\n",
       " '3.8',\n",
       " '3.9',\n",
       " '4.1',\n",
       " '3.9',\n",
       " '4.1',\n",
       " '4.0',\n",
       " '3.9',\n",
       " '4.0',\n",
       " '3.6']"
      ]
     },
     "execution_count": 82,
     "metadata": {},
     "output_type": "execute_result"
    }
   ],
   "source": [
    "rating"
   ]
  },
  {
   "cell_type": "code",
   "execution_count": 102,
   "id": "c0b02c39",
   "metadata": {},
   "outputs": [
    {
     "data": {
      "text/plain": [
       "[None,\n",
       " None,\n",
       " None,\n",
       " None,\n",
       " None,\n",
       " None,\n",
       " None,\n",
       " None,\n",
       " None,\n",
       " None,\n",
       " None,\n",
       " None,\n",
       " None,\n",
       " None,\n",
       " None,\n",
       " None,\n",
       " None,\n",
       " None,\n",
       " None,\n",
       " None]"
      ]
     },
     "execution_count": 102,
     "metadata": {},
     "output_type": "execute_result"
    }
   ],
   "source": [
    "reviews"
   ]
  },
  {
   "cell_type": "code",
   "execution_count": 103,
   "id": "277c5513",
   "metadata": {},
   "outputs": [
    {
     "data": {
      "text/plain": [
       "[]"
      ]
     },
     "execution_count": 103,
     "metadata": {},
     "output_type": "execute_result"
    }
   ],
   "source": [
    "company[0].find_all('div', class_='infoEntity')"
   ]
  },
  {
   "cell_type": "code",
   "execution_count": null,
   "id": "e4403c6e",
   "metadata": {},
   "outputs": [],
   "source": []
  }
 ],
 "metadata": {
  "kernelspec": {
   "display_name": "Python 3 (ipykernel)",
   "language": "python",
   "name": "python3"
  },
  "language_info": {
   "codemirror_mode": {
    "name": "ipython",
    "version": 3
   },
   "file_extension": ".py",
   "mimetype": "text/x-python",
   "name": "python",
   "nbconvert_exporter": "python",
   "pygments_lexer": "ipython3",
   "version": "3.10.9"
  }
 },
 "nbformat": 4,
 "nbformat_minor": 5
}
